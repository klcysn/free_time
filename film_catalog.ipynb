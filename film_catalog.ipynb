{
 "cells": [
  {
   "cell_type": "code",
   "execution_count": null,
   "metadata": {},
   "outputs": [],
   "source": [
    "films = {\"Faster\" : {\"Film Name\" : \"Faster\", \"Film Type\" : \"Action\", \"IMDB\" : 7.2, \"Year\" : 2019},\n",
    "        \"Miles\" : {\"Film Name\" : \"Miles\", \"Film Type\" : \"Dram\", \"IMDB\" : 7.0, \"Year\" : 2020}}\n",
    "def add_film() :\n",
    "    x = True\n",
    "    while x :\n",
    "        global film_name\n",
    "        film_name = input(\"Please enter film name : \").title().strip()\n",
    "        if film_name not in films.keys() and film_name !=\"\" : x = False\n",
    "        else :\n",
    "            print(\"You leaved film name blank! or Film has already been added!\")\n",
    "            answr = input(\"Would you like to continue(Y/N)\").capitalize()\n",
    "            if answr == \"Y\" : x = True\n",
    "            elif answr == \"N\" :\n",
    "                film_name = False\n",
    "                x = False\n",
    "    while film_name :\n",
    "        film_type = input(\"Please enter type of film : \").title().strip()\n",
    "        imdb = input(\"Please enter IMDB score of film : \")\n",
    "        film_year = input(\"Please enter year of film : \")\n",
    "        films[film_name] = {\"Film Name\" : film_name, \"Film Type\" : film_type, \"IMDB\" : imdb, \"Year\" : film_year}\n",
    "        print(\"Film was added !\")\n",
    "        break\n",
    "def del_film():\n",
    "    film_name = input(\"Please enter film name : \").title().strip()\n",
    "    films.pop(film_name)\n",
    "    print(\"Film was deleted\")\n",
    "def get_film():\n",
    "    film_name = input(\"Please enter film name : \").title().strip()\n",
    "    print(films.get(film_name, f\"We have not {film_name}!\"))\n",
    "def list_film() :\n",
    "    for i, j in zip(films.keys(), range(1, len(films) + 1)) :\n",
    "        print(f\"[{j}]\", i)\n",
    "def start() :\n",
    "    while True :\n",
    "        print(\"\"\"\n",
    "\n",
    "        [1] Add Film\n",
    "        [2] Delete Film\n",
    "        [3] Chose Film\n",
    "        [4] List Films\n",
    "\n",
    "        'Please Enter Your Choise In The Box'\n",
    "\n",
    "        \"\"\")\n",
    "        box = int(input(\"Enter your choise as number : \"))\n",
    "        if box == 1:\n",
    "            add_film()\n",
    "\n",
    "        elif box == 2:\n",
    "            del_film()\n",
    "\n",
    "        elif box == 3 :\n",
    "            get_film()\n",
    "\n",
    "        elif box == 4 :\n",
    "            list_film()\n",
    "        break"
   ]
  },
  {
   "cell_type": "code",
   "execution_count": null,
   "metadata": {},
   "outputs": [],
   "source": [
    "start()"
   ]
  },
  {
   "cell_type": "code",
   "execution_count": null,
   "metadata": {},
   "outputs": [],
   "source": []
  },
  {
   "cell_type": "code",
   "execution_count": null,
   "metadata": {},
   "outputs": [],
   "source": []
  },
  {
   "cell_type": "code",
   "execution_count": null,
   "metadata": {},
   "outputs": [],
   "source": []
  },
  {
   "cell_type": "code",
   "execution_count": null,
   "metadata": {},
   "outputs": [],
   "source": []
  },
  {
   "cell_type": "code",
   "execution_count": null,
   "metadata": {},
   "outputs": [],
   "source": []
  },
  {
   "cell_type": "code",
   "execution_count": null,
   "metadata": {},
   "outputs": [],
   "source": []
  },
  {
   "cell_type": "code",
   "execution_count": null,
   "metadata": {},
   "outputs": [],
   "source": []
  },
  {
   "cell_type": "code",
   "execution_count": null,
   "metadata": {},
   "outputs": [],
   "source": []
  }
 ],
 "metadata": {
  "kernelspec": {
   "display_name": "Python 3",
   "language": "python",
   "name": "python3"
  },
  "language_info": {
   "codemirror_mode": {
    "name": "ipython",
    "version": 3
   },
   "file_extension": ".py",
   "mimetype": "text/x-python",
   "name": "python",
   "nbconvert_exporter": "python",
   "pygments_lexer": "ipython3",
   "version": "3.7.6"
  }
 },
 "nbformat": 4,
 "nbformat_minor": 4
}
