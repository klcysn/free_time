{
 "cells": [
  {
   "cell_type": "code",
   "execution_count": null,
   "metadata": {
    "scrolled": true
   },
   "outputs": [],
   "source": [
    "data = \"\"\n",
    "def ipInfo():\n",
    "    from urllib.request import urlopen\n",
    "    from json import load\n",
    "    url = 'https://ipinfo.io/json'\n",
    "    response = urlopen(url)\n",
    "    global data\n",
    "    data = load(response)\n",
    "    for x in data.keys(): print(x, ' ' * 13 + '\\t->\\t', data[x])\n",
    "        \n",
    "def temp(city) :\n",
    "    import requests\n",
    "    url_temp = \"http://api.openweathermap.org/data/2.5/weather?appid=\"WRITE HERE YOUR API CODE WITHOUT QUOTES\"&q=\" + city\n",
    "    data_temp = requests.get(url_temp).json()\n",
    "    print(\"Weather Situation : \", data_temp[\"weather\"][0][\"description\"].title())\n",
    "    print(\"Temperature : \", round((data_temp['main']['temp'] - 273.15), 2), \"C Degree\")\n",
    "ipInfo()\n",
    "temp(data[\"city\"])"
   ]
  },
  {
   "cell_type": "code",
   "execution_count": null,
   "metadata": {},
   "outputs": [],
   "source": []
  },
  {
   "cell_type": "code",
   "execution_count": null,
   "metadata": {},
   "outputs": [],
   "source": []
  }
 ],
 "metadata": {
  "kernelspec": {
   "display_name": "Python 3",
   "language": "python",
   "name": "python3"
  },
  "language_info": {
   "codemirror_mode": {
    "name": "ipython",
    "version": 3
   },
   "file_extension": ".py",
   "mimetype": "text/x-python",
   "name": "python",
   "nbconvert_exporter": "python",
   "pygments_lexer": "ipython3",
   "version": "3.7.6"
  }
 },
 "nbformat": 4,
 "nbformat_minor": 4
}
